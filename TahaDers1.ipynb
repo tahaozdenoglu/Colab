{
  "nbformat": 4,
  "nbformat_minor": 0,
  "metadata": {
    "colab": {
      "provenance": [],
      "authorship_tag": "ABX9TyNOy8FRKPU0l7qXZ+qyE+m9",
      "include_colab_link": true
    },
    "kernelspec": {
      "name": "python3",
      "display_name": "Python 3"
    },
    "language_info": {
      "name": "python"
    }
  },
  "cells": [
    {
      "cell_type": "markdown",
      "metadata": {
        "id": "view-in-github",
        "colab_type": "text"
      },
      "source": [
        "<a href=\"https://colab.research.google.com/github/tahaozdenoglu/Colab/blob/main/TahaDers1.ipynb\" target=\"_parent\"><img src=\"https://colab.research.google.com/assets/colab-badge.svg\" alt=\"Open In Colab\"/></a>"
      ]
    },
    {
      "cell_type": "markdown",
      "source": [
        "# **Pyhton Giriş**"
      ],
      "metadata": {
        "id": "6gBgGQs5QfXQ"
      }
    },
    {
      "cell_type": "code",
      "execution_count": null,
      "metadata": {
        "id": "IJSs8doyO-HJ"
      },
      "outputs": [],
      "source": [
        "#Yorum Satırları\n",
        "#Kod satırları içinde açıklama veya yorum amaçlı kullanılır."
      ]
    },
    {
      "cell_type": "code",
      "source": [
        "'''\n",
        "çoklu yorum satırları\n",
        "birden fazla satırda yorum satırı olacaksa bu şekilde yazılır\n",
        "kod yazarken arada açıklamalar yazılır. Başkaları ve ya kendimiz için hatırlatıcı\n",
        "'''"
      ],
      "metadata": {
        "id": "pU7sYv2ARVuF"
      },
      "execution_count": null,
      "outputs": []
    },
    {
      "cell_type": "code",
      "source": [
        "#print() ekrana yazı-metin-sayı vs. yazdırmak için kullanılır.\n",
        "print(\"Merhaba Dünya\")"
      ],
      "metadata": {
        "colab": {
          "base_uri": "https://localhost:8080/"
        },
        "id": "pxBhN7AASfqo",
        "outputId": "574a84db-b4b0-44fd-90b6-d19e9901dc5a"
      },
      "execution_count": null,
      "outputs": [
        {
          "output_type": "stream",
          "name": "stdout",
          "text": [
            "Merhaba Dünya\n"
          ]
        }
      ]
    },
    {
      "cell_type": "code",
      "source": [
        "print(3+6+9)"
      ],
      "metadata": {
        "colab": {
          "base_uri": "https://localhost:8080/"
        },
        "id": "ZS-VhAQESzns",
        "outputId": "20d37c76-14f3-4e24-d8d5-22da24dbfcb6"
      },
      "execution_count": null,
      "outputs": [
        {
          "output_type": "stream",
          "name": "stdout",
          "text": [
            "18\n"
          ]
        }
      ]
    },
    {
      "cell_type": "code",
      "source": [
        "#değişkenler Pyhtonda değişken kullanımı çok esnek bi yapıda\n",
        "tuz='tuz'\n",
        "print(tuz)\n",
        "tuz='şeker' #tuz degil şeker koymak istedim ama tuz yazarsam şeker gelir\n",
        "print(tuz)\n",
        "tuz=100\n",
        "print(tuz)"
      ],
      "metadata": {
        "colab": {
          "base_uri": "https://localhost:8080/"
        },
        "id": "ajq37yTlTDVP",
        "outputId": "8108d99b-88dd-4168-af9a-bbb61eb46729"
      },
      "execution_count": null,
      "outputs": [
        {
          "output_type": "stream",
          "name": "stdout",
          "text": [
            "tuz\n",
            "şeker\n",
            "100\n"
          ]
        }
      ]
    },
    {
      "cell_type": "code",
      "source": [
        "print(\"tuz\") #burda değişken yok yazdırmak istediğini yazdırıyorsun\n",
        "print(\"taha\")\n"
      ],
      "metadata": {
        "colab": {
          "base_uri": "https://localhost:8080/"
        },
        "id": "s01gKlnCUByS",
        "outputId": "6adbaebe-ebe7-4c96-ffb9-7824401c0738"
      },
      "execution_count": null,
      "outputs": [
        {
          "output_type": "stream",
          "name": "stdout",
          "text": [
            "tuz\n",
            "taha\n"
          ]
        }
      ]
    },
    {
      "cell_type": "code",
      "source": [
        "tuz+100 #yukarıda tuza 100 değer verdiğimiz için 200 olarak getirdi."
      ],
      "metadata": {
        "colab": {
          "base_uri": "https://localhost:8080/"
        },
        "id": "Jsgozx11USj4",
        "outputId": "aa9c0fa3-41a3-4742-b375-277dd5b72327"
      },
      "execution_count": null,
      "outputs": [
        {
          "output_type": "execute_result",
          "data": {
            "text/plain": [
              "200"
            ]
          },
          "metadata": {},
          "execution_count": 6
        }
      ]
    },
    {
      "cell_type": "code",
      "source": [
        "tuz=tuz+100 #tuz artık 200 oldu yeni değişken vermis olduk. tuzun üstüne tuz ekledin gibi\n",
        "print(tuz+100)\n",
        "print(tuz)"
      ],
      "metadata": {
        "colab": {
          "base_uri": "https://localhost:8080/"
        },
        "id": "9J31TC5aUj4i",
        "outputId": "3a79d58b-616c-4116-d494-8a3b878fe45c"
      },
      "execution_count": null,
      "outputs": [
        {
          "output_type": "stream",
          "name": "stdout",
          "text": [
            "300\n",
            "200\n"
          ]
        }
      ]
    },
    {
      "cell_type": "markdown",
      "source": [],
      "metadata": {
        "id": "Q9pYMvyoQehI"
      }
    },
    {
      "cell_type": "code",
      "source": [
        "sayi=100\n",
        "print(sayi/2)"
      ],
      "metadata": {
        "colab": {
          "base_uri": "https://localhost:8080/"
        },
        "id": "XJW-JO9tVuRa",
        "outputId": "d8894ec1-9512-44b3-e4cc-1d6ed72a7ff1"
      },
      "execution_count": null,
      "outputs": [
        {
          "output_type": "stream",
          "name": "stdout",
          "text": [
            "50.0\n"
          ]
        }
      ]
    },
    {
      "cell_type": "code",
      "source": [
        "sayi=\"murat\"\n",
        "print(sayi)\n"
      ],
      "metadata": {
        "colab": {
          "base_uri": "https://localhost:8080/"
        },
        "id": "Pjus3u4aV51y",
        "outputId": "715c14c3-c41e-47ec-b872-40763a7ee3c3"
      },
      "execution_count": null,
      "outputs": [
        {
          "output_type": "stream",
          "name": "stdout",
          "text": [
            "murat\n"
          ]
        }
      ]
    },
    {
      "cell_type": "code",
      "source": [
        "sayi+ \" Altun\""
      ],
      "metadata": {
        "colab": {
          "base_uri": "https://localhost:8080/",
          "height": 35
        },
        "id": "k5vOCxr0V-O6",
        "outputId": "9e382d5c-bc1f-4d03-de88-ac5573ffcdea"
      },
      "execution_count": null,
      "outputs": [
        {
          "output_type": "execute_result",
          "data": {
            "text/plain": [
              "'murat Altun'"
            ],
            "application/vnd.google.colaboratory.intrinsic+json": {
              "type": "string"
            }
          },
          "metadata": {},
          "execution_count": 11
        }
      ]
    },
    {
      "cell_type": "code",
      "source": [
        "'''Taha''' + ''' özdenoglu''' #arada bi tane bosluk bırak ki bosluk olsun"
      ],
      "metadata": {
        "colab": {
          "base_uri": "https://localhost:8080/",
          "height": 35
        },
        "id": "X5Xl0EIkWEN2",
        "outputId": "42d44def-9468-43ed-c3ce-9f0041afb61a"
      },
      "execution_count": null,
      "outputs": [
        {
          "output_type": "execute_result",
          "data": {
            "text/plain": [
              "'Taha özdenoglu'"
            ],
            "application/vnd.google.colaboratory.intrinsic+json": {
              "type": "string"
            }
          },
          "metadata": {},
          "execution_count": 14
        }
      ]
    },
    {
      "cell_type": "code",
      "source": [
        "'taha' + ' özdenoglu'\n"
      ],
      "metadata": {
        "colab": {
          "base_uri": "https://localhost:8080/",
          "height": 35
        },
        "id": "gr83cuzFWlVW",
        "outputId": "eb5db8f7-95ef-48ca-fbdf-4307dfc329da"
      },
      "execution_count": null,
      "outputs": [
        {
          "output_type": "execute_result",
          "data": {
            "text/plain": [
              "'taha özdenoglu'"
            ],
            "application/vnd.google.colaboratory.intrinsic+json": {
              "type": "string"
            }
          },
          "metadata": {},
          "execution_count": 15
        }
      ]
    },
    {
      "cell_type": "code",
      "source": [
        "print(\n",
        "    \"\"\"\n",
        "Yağdı yağmur\n",
        "Çaktı şimşek\n",
        "\"\"\"\n",
        ")"
      ],
      "metadata": {
        "colab": {
          "base_uri": "https://localhost:8080/"
        },
        "id": "60lH1DO0WuFy",
        "outputId": "9302cb0a-12cc-44f1-f8b4-0c85d5726e82"
      },
      "execution_count": null,
      "outputs": [
        {
          "output_type": "stream",
          "name": "stdout",
          "text": [
            "\n",
            "Yağdı yağmur\n",
            "Çaktı şimşek\n",
            "\n"
          ]
        }
      ]
    },
    {
      "cell_type": "code",
      "source": [
        "veri_sayisi=100 #değişkenin adı içerikle uygun çok uzun ve çok kısa olmamalı ve yasaklı ifadelerden oluşmamalıdır.\n",
        "#sayı ile baslayamaz."
      ],
      "metadata": {
        "id": "hSgthHSfXBZj"
      },
      "execution_count": null,
      "outputs": []
    },
    {
      "cell_type": "code",
      "source": [
        "1.sayı=10 #hatalı kullanım syntaxerror verir"
      ],
      "metadata": {
        "id": "lwholVyjXcgG"
      },
      "execution_count": null,
      "outputs": []
    },
    {
      "cell_type": "code",
      "source": [
        "#operatörler işleçler\n",
        "#aritmetik operatörler\n",
        "#+ - * / % // **\n",
        "sayi1=10\n",
        "sayi2=36\n",
        "print(\"toplam: \", sayi1+sayi2)\n",
        "print(\"fark:\", sayi1-sayi2)\n",
        "print(\"çarpım:\", sayi1*sayi2)\n",
        "print(\"bölüm:\", sayi1/sayi2)\n",
        "print(\"kalan:\", sayi1%sayi2)\n",
        "print(\"tam bölme:\", sayi1//sayi2)\n",
        "print(\"üs:\", sayi1**sayi2)\n"
      ],
      "metadata": {
        "colab": {
          "base_uri": "https://localhost:8080/"
        },
        "id": "LwtRMU8IXtC2",
        "outputId": "5bd46bfe-86cc-494e-cfbd-b6d74947512a"
      },
      "execution_count": null,
      "outputs": [
        {
          "output_type": "stream",
          "name": "stdout",
          "text": [
            "toplam:  46\n",
            "fark: -26\n",
            "çarpım: 360\n",
            "bölüm: 0.2777777777777778\n",
            "kalan: 10\n",
            "tam bölme: 0\n",
            "üs: 1000000000000000000000000000000000000\n"
          ]
        }
      ]
    },
    {
      "cell_type": "code",
      "source": [
        "#atama operatörü\n",
        "sayi1=34 # = bi atamadır\n",
        "sayi1=sayi1+34\n",
        "sayi1\n"
      ],
      "metadata": {
        "colab": {
          "base_uri": "https://localhost:8080/"
        },
        "id": "rURst2v7aIKH",
        "outputId": "56162b8f-322b-49fa-bdeb-ae9517c832b4"
      },
      "execution_count": null,
      "outputs": [
        {
          "output_type": "execute_result",
          "data": {
            "text/plain": [
              "68"
            ]
          },
          "metadata": {},
          "execution_count": 20
        }
      ]
    },
    {
      "cell_type": "code",
      "source": [
        "#karşılatırma operatörleri Ture False\n",
        "print (sayi1==34) #sayi1 34 e eşit mi"
      ],
      "metadata": {
        "colab": {
          "base_uri": "https://localhost:8080/"
        },
        "id": "f1QDp42EadYx",
        "outputId": "d018fbf8-cb8f-4638-9859-c79c9b7a6ed5"
      },
      "execution_count": null,
      "outputs": [
        {
          "output_type": "stream",
          "name": "stdout",
          "text": [
            "False\n"
          ]
        }
      ]
    },
    {
      "cell_type": "code",
      "source": [
        "sayi1=34\n",
        "sayi1==34"
      ],
      "metadata": {
        "colab": {
          "base_uri": "https://localhost:8080/"
        },
        "id": "kEMdRURYa1hQ",
        "outputId": "d476f163-7a94-4c54-a47e-50e322b27907"
      },
      "execution_count": null,
      "outputs": [
        {
          "output_type": "execute_result",
          "data": {
            "text/plain": [
              "True"
            ]
          },
          "metadata": {},
          "execution_count": 22
        }
      ]
    },
    {
      "cell_type": "code",
      "source": [
        "yas=18 #atama\n",
        "if yas>=18: #karsılatırma operatörü\n",
        "    print(\"Ehliyet için yaşınız uygun\")\n",
        "else:\n",
        "    print(\"yaşınız uygun değil\")"
      ],
      "metadata": {
        "colab": {
          "base_uri": "https://localhost:8080/"
        },
        "id": "cjsWU82ZbGGt",
        "outputId": "70306a8e-aec1-46c5-c855-e75c94ac4436"
      },
      "execution_count": null,
      "outputs": [
        {
          "output_type": "stream",
          "name": "stdout",
          "text": [
            "Ehliyet için yaşınız uygun\n"
          ]
        }
      ]
    },
    {
      "cell_type": "code",
      "source": [
        "yas=17\n",
        "if yas>=18:\n",
        "    print(\"Ehliyet için yaşınız uygun\")\n",
        "else:\n",
        "    print(\"yaşınız uygun değil\")"
      ],
      "metadata": {
        "colab": {
          "base_uri": "https://localhost:8080/"
        },
        "id": "p32EMcp0bvV0",
        "outputId": "3836684b-0a34-4555-a1ef-b4d5709e4f4b"
      },
      "execution_count": null,
      "outputs": [
        {
          "output_type": "stream",
          "name": "stdout",
          "text": [
            "yaşınız uygun değil\n"
          ]
        }
      ]
    },
    {
      "cell_type": "code",
      "source": [
        "\n",
        "universite=True\n",
        "ehliyet=True\n",
        "askerlik=True\n",
        "is_tecrubesi=5\n",
        "\n",
        "if universite and ehliyet and askerlik and is_tecrubesi>=5:\n",
        "  print(\"tüm koşulları sağladınız\")\n",
        "else: print(\"koşullarınız uygun değil\")"
      ],
      "metadata": {
        "colab": {
          "base_uri": "https://localhost:8080/"
        },
        "id": "jUWxwjUVcAdb",
        "outputId": "62c73965-97db-4872-8a69-b3b40f3026dc"
      },
      "execution_count": null,
      "outputs": [
        {
          "output_type": "stream",
          "name": "stdout",
          "text": [
            "tüm koşulları sağladınız\n"
          ]
        }
      ]
    },
    {
      "cell_type": "code",
      "source": [
        "\n",
        "universite=True\n",
        "ehliyet=True\n",
        "askerlik=True\n",
        "is_tecrubesi=4\n",
        "\n",
        "if universite and ehliyet and askerlik and is_tecrubesi>=5:\n",
        "  print(\"tüm koşulları sağladınız\")\n",
        "else: print(\"koşullarınız uygun değil\")"
      ],
      "metadata": {
        "colab": {
          "base_uri": "https://localhost:8080/"
        },
        "id": "QDZXZzsZc-UU",
        "outputId": "319c68b3-4701-4c11-8843-955393e37557"
      },
      "execution_count": null,
      "outputs": [
        {
          "output_type": "stream",
          "name": "stdout",
          "text": [
            "koşullarınız uygun değil\n"
          ]
        }
      ]
    },
    {
      "cell_type": "code",
      "source": [
        "#büyük küçük harf önemli fark ettirir.\n",
        "\n",
        "sayi1=10\n",
        "Sayi1=20\n",
        "SAYİ1=30"
      ],
      "metadata": {
        "id": "W8LsVIbjdSn8"
      },
      "execution_count": null,
      "outputs": []
    },
    {
      "cell_type": "code",
      "source": [
        "\n",
        "universite=True\n",
        "ehliyet=True\n",
        "askerlik=True\n",
        "is_tecrubesi=5\n",
        "veri_bilimi=True\n",
        "\n",
        "if universite and ehliyet and askerlik and (is_tecrubesi>=5 or veri_bilimi):\n",
        "  print(\"tüm koşulları sağladınız\")\n",
        "else: print(\"koşullarınız uygun değil\")"
      ],
      "metadata": {
        "colab": {
          "base_uri": "https://localhost:8080/"
        },
        "id": "jgCOeDhnd8b5",
        "outputId": "5114e344-c178-41e1-c475-e7c7711038ce"
      },
      "execution_count": null,
      "outputs": [
        {
          "output_type": "stream",
          "name": "stdout",
          "text": [
            "tüm koşulları sağladınız\n"
          ]
        }
      ]
    },
    {
      "cell_type": "code",
      "source": [
        "#2sinden biri olursa okey\n",
        "universite=True\n",
        "ehliyet=True\n",
        "askerlik=True\n",
        "is_tecrubesi=4\n",
        "veri_bilimi=True\n",
        "# and ve or mantıklsal operatörlerdir\n",
        "if universite and ehliyet and askerlik and (is_tecrubesi>=5 or veri_bilimi):\n",
        "  print(\"tüm koşulları sağladınız\")\n",
        "else: print(\"koşullarınız uygun değil\")"
      ],
      "metadata": {
        "colab": {
          "base_uri": "https://localhost:8080/"
        },
        "id": "ofsLklrZeL9n",
        "outputId": "8ebe623b-37bd-4343-d27b-a3f3792b7723"
      },
      "execution_count": null,
      "outputs": [
        {
          "output_type": "stream",
          "name": "stdout",
          "text": [
            "tüm koşulları sağladınız\n"
          ]
        }
      ]
    },
    {
      "cell_type": "code",
      "source": [
        "not askerlik #bişey değilse olumsuz"
      ],
      "metadata": {
        "colab": {
          "base_uri": "https://localhost:8080/"
        },
        "id": "aZTKZ8sPeU5H",
        "outputId": "640d4c4c-c3c2-45cb-a912-63ad689a6dde"
      },
      "execution_count": null,
      "outputs": [
        {
          "output_type": "execute_result",
          "data": {
            "text/plain": [
              "False"
            ]
          },
          "metadata": {},
          "execution_count": 41
        }
      ]
    },
    {
      "cell_type": "code",
      "source": [
        "mission=False\n",
        "if not mission:\n",
        "  print(\"görev tamamlanmıs olmalı\")"
      ],
      "metadata": {
        "colab": {
          "base_uri": "https://localhost:8080/"
        },
        "id": "1zWg02lpecGP",
        "outputId": "bfee5c6e-c1b2-45ad-e123-ca72dec636b4"
      },
      "execution_count": null,
      "outputs": [
        {
          "output_type": "stream",
          "name": "stdout",
          "text": [
            "görev tamamlanmıs olmalı\n"
          ]
        }
      ]
    },
    {
      "cell_type": "code",
      "source": [
        "sayi=60\n",
        "print (sayi>=1 and sayi<=100)"
      ],
      "metadata": {
        "colab": {
          "base_uri": "https://localhost:8080/"
        },
        "id": "aknwNjqMfKaB",
        "outputId": "e5055d81-8982-4071-b2bf-d4a3a6de1937"
      },
      "execution_count": null,
      "outputs": [
        {
          "output_type": "stream",
          "name": "stdout",
          "text": [
            "True\n"
          ]
        }
      ]
    },
    {
      "cell_type": "code",
      "source": [
        "sayi=160\n",
        "print (sayi>=1 and sayi<=100)"
      ],
      "metadata": {
        "colab": {
          "base_uri": "https://localhost:8080/"
        },
        "id": "nrlS7y27fdIc",
        "outputId": "969f2bed-deb8-4510-9463-f97fd8d0c0a5"
      },
      "execution_count": null,
      "outputs": [
        {
          "output_type": "stream",
          "name": "stdout",
          "text": [
            "False\n"
          ]
        }
      ]
    },
    {
      "cell_type": "code",
      "source": [
        "#veri türleri\n",
        "#tam sayı (integer), ondalıklı sayı (float), metinsel ifade (string), Boolean (true, false)"
      ],
      "metadata": {
        "id": "xoQEQn26ezjA"
      },
      "execution_count": null,
      "outputs": []
    },
    {
      "cell_type": "code",
      "source": [
        "#üniversitede ders notu hesaplama\n",
        "#öğrencinin vize final derse devam puanlarını alın\n",
        "#aralıklar kontrol edilsin if vize>0 and vize <=100 olamalı else: uyarı\n",
        "#sonra vize .3 final .5 ve derse devam .2 çarparak harf notuna çevir\n",
        "# 90 dan büyük ise  A\n",
        "#80-90 arası b"
      ],
      "metadata": {
        "id": "MZEF2Y0hffql"
      },
      "execution_count": null,
      "outputs": []
    },
    {
      "cell_type": "code",
      "source": [
        "vize_puani=int(input(\"Vize notunuzu giriniz: \")) #int=intager tam sayı oldugunu göstermek için input ise değer girdirmek için\n",
        "final_puani=int(input(\"Final notunuzu giriniz: \"))\n",
        "devam_puani=int(input(\"Devam puanınızı giriniz: \"))\n",
        "print(vize_puani)"
      ],
      "metadata": {
        "colab": {
          "base_uri": "https://localhost:8080/"
        },
        "id": "T-1JtWk3frYA",
        "outputId": "962cc3b6-685e-41e3-bbe3-f2d2649ba109"
      },
      "execution_count": null,
      "outputs": [
        {
          "output_type": "stream",
          "name": "stdout",
          "text": [
            "Vize notunuzu giriniz: 20\n",
            "Final notunuzu giriniz: 30\n",
            "Devam puanınızı giriniz: 10\n",
            "20\n"
          ]
        }
      ]
    },
    {
      "cell_type": "code",
      "source": [
        "vize_puani=int(input(\"Vize notunuzu giriniz: \")) #int=intager tam sayı oldugunu göstermek için input ise değer girdirmek için\n",
        "final_puani=int(input(\"Final notunuzu giriniz: \"))\n",
        "devam_puani=int(input(\"Devam puanınızı giriniz: \"))\n",
        "print(\"Vize Puanı:\", vize_puani*3)\n",
        "print(\"Final Puanı\", final_puani*5)\n",
        "print(\"Devamlılık Puanı\", devam_puani*2)\n",
        "print(\"Toplam Puan\", vize_puani*3+final_puani*5+devam_puani*2)\n",
        "\n",
        "ortalama = (vize_puani + final_puani + devam_puani)/3 #ortalama değerini tanımlaman gerekiyor\n",
        "print(\"Ortalama:\", ortalama) #\" \" içerisinde yazan text başlıgı veriyor sana virgülden sonraki ortalama ise ortalama değerini\n",
        "\n",
        "if ortalama>=90:\n",
        "  print(\"harf notunuz A\")\n",
        "elif ortalama>=80:\n",
        "  print(\"harf notunuz B\")\n",
        "elif ortalama>=60:\n",
        "  print(\"harf notunuz C\")\n",
        "else:\n",
        "  print(\"harf notunuz F\")\n"
      ],
      "metadata": {
        "colab": {
          "base_uri": "https://localhost:8080/"
        },
        "id": "4gXpwsR7f0Ar",
        "outputId": "eb36f4a2-4bf1-4549-8f8e-c0fbabefcbd8"
      },
      "execution_count": null,
      "outputs": [
        {
          "output_type": "stream",
          "name": "stdout",
          "text": [
            "Vize notunuzu giriniz: 50\n",
            "Final notunuzu giriniz: 60\n",
            "Devam puanınızı giriniz: 30\n",
            "Vize Puanı: 150\n",
            "Final Puanı 300\n",
            "Devamlılık Puanı 60\n",
            "Toplam Puan 510\n",
            "Ortalama: 46.666666666666664\n",
            "harf notunuz F\n"
          ]
        }
      ]
    },
    {
      "cell_type": "markdown",
      "source": [],
      "metadata": {
        "id": "NNv4olPQP__n"
      }
    },
    {
      "cell_type": "code",
      "source": [
        "metin=\"taha\"\n",
        "metin[0], ##ilk harfini alır\n",
        "metin[-1]##son harfi alır\n"
      ],
      "metadata": {
        "colab": {
          "base_uri": "https://localhost:8080/"
        },
        "id": "mNlTnisJ5-2J",
        "outputId": "de714827-ea9b-4acc-d3c3-f5f13f5079b0"
      },
      "execution_count": null,
      "outputs": [
        {
          "output_type": "execute_result",
          "data": {
            "text/plain": [
              "('t',)"
            ]
          },
          "metadata": {},
          "execution_count": 6
        }
      ]
    },
    {
      "cell_type": "code",
      "source": [
        "##maskeleme\n",
        "ad=input(\"adınızı giriniz: \")\n",
        "soyad=input(\"soyadınızı giriniz:  \")\n",
        "TC_kimlik_no=input(\"TC kimlik numaranızı giriniz: \")\n",
        "maske_ad=ad[0]+\"*****\" +ad[-1]\n",
        "maske_soyad=soyad[0]+\"*****\"+soyad[-1]\n",
        "maske_TC=TC_kimlik_no[0]+\"******\"+TC_kimlik_no[-1]\n",
        "print(maske_ad, maske_soyad,maske_TC)\n",
        "\n"
      ],
      "metadata": {
        "colab": {
          "base_uri": "https://localhost:8080/"
        },
        "id": "G5IvuFDN2aBB",
        "outputId": "a5699fa7-82b2-45d9-c132-59398aa35e4e"
      },
      "execution_count": null,
      "outputs": [
        {
          "output_type": "stream",
          "name": "stdout",
          "text": [
            "adınızı giriniz: taha\n",
            "soyadınızı giriniz:  özden\n",
            "TC kimlik numaranızı giriniz: 12345679\n",
            "t*****a ö*****n 1******9\n"
          ]
        }
      ]
    },
    {
      "cell_type": "code",
      "source": [
        "##maskelemeye fonksiyon tanımlama\n",
        "## def ile tanımlanır\n",
        "def selamlama():\n",
        "  print(\"merhaba dünya\")"
      ],
      "metadata": {
        "id": "LIrKN09R8Etq"
      },
      "execution_count": null,
      "outputs": []
    },
    {
      "cell_type": "code",
      "source": [
        "selamlama()"
      ],
      "metadata": {
        "colab": {
          "base_uri": "https://localhost:8080/"
        },
        "id": "GDKr3eoM8wxC",
        "outputId": "5b985a5e-2bc9-4f9e-ce42-cd1dbc0a2481"
      },
      "execution_count": null,
      "outputs": [
        {
          "output_type": "stream",
          "name": "stdout",
          "text": [
            "merhaba dünya\n"
          ]
        }
      ]
    },
    {
      "cell_type": "code",
      "source": [
        "def daire_alani(r,pi=3.14):\n",
        "  return(pi*r**2)\n",
        "  ##returnde değerin kendisini alırsın, değer lazım ise direkt değeri kullanacaksam altta printli örnek olacak orda dönen değer olmasın onun karşılıgını getirsin bana"
      ],
      "metadata": {
        "id": "mmaLduaC80Si"
      },
      "execution_count": null,
      "outputs": []
    },
    {
      "cell_type": "code",
      "source": [
        "daire_alani(4)"
      ],
      "metadata": {
        "colab": {
          "base_uri": "https://localhost:8080/"
        },
        "id": "WHJAmwRa9DW0",
        "outputId": "3664487b-c8eb-41dd-9063-92af77185e80"
      },
      "execution_count": null,
      "outputs": [
        {
          "output_type": "execute_result",
          "data": {
            "text/plain": [
              "50.24"
            ]
          },
          "metadata": {},
          "execution_count": 25
        }
      ]
    },
    {
      "cell_type": "code",
      "source": [
        "daire_alani(4,3)\n",
        "##virgülden sonra üç yazarak pi=3 yaptık\n"
      ],
      "metadata": {
        "colab": {
          "base_uri": "https://localhost:8080/"
        },
        "id": "4isFvHi09g8m",
        "outputId": "05e4f583-0a5f-4462-cce2-b63bd5ff6434"
      },
      "execution_count": null,
      "outputs": [
        {
          "output_type": "execute_result",
          "data": {
            "text/plain": [
              "48"
            ]
          },
          "metadata": {},
          "execution_count": 26
        }
      ]
    },
    {
      "cell_type": "code",
      "source": [
        "if daire_alani(1,3)>=10:\n",
        "    print(\"standar dısı\")\n",
        " else: print(\"sss\")"
      ],
      "metadata": {
        "colab": {
          "base_uri": "https://localhost:8080/",
          "height": 106
        },
        "id": "PpFjkV8Y9qOz",
        "outputId": "0a093b46-82d2-44df-f646-6a94467c40e7"
      },
      "execution_count": null,
      "outputs": [
        {
          "output_type": "error",
          "ename": "IndentationError",
          "evalue": "unindent does not match any outer indentation level (<tokenize>, line 3)",
          "traceback": [
            "\u001b[0;36m  File \u001b[0;32m\"<tokenize>\"\u001b[0;36m, line \u001b[0;32m3\u001b[0m\n\u001b[0;31m    else: print(\"sss\")\u001b[0m\n\u001b[0m    ^\u001b[0m\n\u001b[0;31mIndentationError\u001b[0m\u001b[0;31m:\u001b[0m unindent does not match any outer indentation level\n"
          ]
        }
      ]
    },
    {
      "cell_type": "code",
      "source": [
        "def maskeleme(metin):\n",
        "  return(metin[0]+\"*****\"+metin[-1])\n"
      ],
      "metadata": {
        "id": "NzpR4Qr9-dWg"
      },
      "execution_count": null,
      "outputs": []
    },
    {
      "cell_type": "code",
      "source": [
        "isim_listesi=[\"Taha Özden\",\n",
        "              \"Bahri Türk\",\n",
        "              \"Melek Özalp\",\n",
        "              \"Şevval Naz Savaş\",\n",
        "              \"Murat Altun\"]"
      ],
      "metadata": {
        "id": "oYXSCg3k-tqs"
      },
      "execution_count": null,
      "outputs": []
    },
    {
      "cell_type": "code",
      "source": [
        "for isim in isim_listesi:\n",
        "  metin_listesi=isim.split(\" \")\n",
        "  for metin in metin_listesi:\n",
        "    print(maskeleme(metin), end=\" \") ##end isimle soy ismi birlikte yapsın diye\n",
        "  print(\"\\n\") ##kaçıs kullanmak için yaptı aradaki bosluklar"
      ],
      "metadata": {
        "colab": {
          "base_uri": "https://localhost:8080/"
        },
        "id": "ywInNPpO_ymG",
        "outputId": "4a2f3ed4-9df6-458e-837b-b8307073c1f1"
      },
      "execution_count": null,
      "outputs": [
        {
          "output_type": "stream",
          "name": "stdout",
          "text": [
            "T*****a Ö*****n \n",
            "\n",
            "B*****i T*****k \n",
            "\n",
            "M*****k Ö*****p \n",
            "\n",
            "Ş*****l N*****z S*****ş \n",
            "\n",
            "M*****t A*****n \n",
            "\n"
          ]
        }
      ]
    },
    {
      "cell_type": "code",
      "source": [
        "isim_listesi[0] ##indeks sıfırla baslar o yüzden ben geldim"
      ],
      "metadata": {
        "colab": {
          "base_uri": "https://localhost:8080/",
          "height": 35
        },
        "id": "Yv34lG85CbE5",
        "outputId": "66807e40-4a46-4166-f3ae-0ae0f3d5a53c"
      },
      "execution_count": null,
      "outputs": [
        {
          "output_type": "execute_result",
          "data": {
            "text/plain": [
              "'Taha Özden'"
            ],
            "application/vnd.google.colaboratory.intrinsic+json": {
              "type": "string"
            }
          },
          "metadata": {},
          "execution_count": 49
        }
      ]
    },
    {
      "cell_type": "code",
      "source": [
        "for isim in isim_listesi:\n",
        "  metin_listesi=isim.split(\" \")\n",
        "  parca=\"\"\n",
        "  for metin in metin_listesi:\n",
        "    parca+=maskeleme(metin)\n",
        "  print(parca)"
      ],
      "metadata": {
        "colab": {
          "base_uri": "https://localhost:8080/"
        },
        "id": "fXF6rXn__BlL",
        "outputId": "47397cc5-245a-44e9-9f32-8b1b3dcf0922"
      },
      "execution_count": null,
      "outputs": [
        {
          "output_type": "stream",
          "name": "stdout",
          "text": [
            "T*****aÖ*****n\n",
            "B*****iT*****k\n",
            "M*****kÖ*****p\n",
            "Ş*****lN*****zS*****ş\n",
            "M*****tA*****n\n"
          ]
        }
      ]
    },
    {
      "cell_type": "code",
      "source": [
        "sayilar=list(range(1,11))"
      ],
      "metadata": {
        "id": "fKB-4XrzClNF"
      },
      "execution_count": null,
      "outputs": []
    },
    {
      "cell_type": "code",
      "source": [
        "sayilar"
      ],
      "metadata": {
        "colab": {
          "base_uri": "https://localhost:8080/"
        },
        "id": "hy53hZXMDYnn",
        "outputId": "d0e95427-209a-48e7-c296-fa36cbbf3400"
      },
      "execution_count": null,
      "outputs": [
        {
          "output_type": "execute_result",
          "data": {
            "text/plain": [
              "[1, 2, 3, 4, 5, 6, 7, 8, 9, 10]"
            ]
          },
          "metadata": {},
          "execution_count": 52
        }
      ]
    },
    {
      "cell_type": "code",
      "source": [
        "for sayi in sayilar:\n",
        "  print(sayi,\"karesi:\" ,sayi*sayi)"
      ],
      "metadata": {
        "colab": {
          "base_uri": "https://localhost:8080/"
        },
        "id": "pnHKp620DaHW",
        "outputId": "99236cf4-a9b1-490c-9a85-d589117f0dfb"
      },
      "execution_count": null,
      "outputs": [
        {
          "output_type": "stream",
          "name": "stdout",
          "text": [
            "1 karesi: 1\n",
            "2 karesi: 4\n",
            "3 karesi: 9\n",
            "4 karesi: 16\n",
            "5 karesi: 25\n",
            "6 karesi: 36\n",
            "7 karesi: 49\n",
            "8 karesi: 64\n",
            "9 karesi: 81\n",
            "10 karesi: 100\n"
          ]
        }
      ]
    },
    {
      "cell_type": "code",
      "source": [
        "sayilar_kare=[sayi*sayi for sayi in sayilar]\n",
        "sayilar_kare"
      ],
      "metadata": {
        "colab": {
          "base_uri": "https://localhost:8080/"
        },
        "id": "4jqLYELCDui5",
        "outputId": "4848f555-8d35-4485-ca78-6f4768b61e32"
      },
      "execution_count": null,
      "outputs": [
        {
          "output_type": "execute_result",
          "data": {
            "text/plain": [
              "[1, 4, 9, 16, 25, 36, 49, 64, 81, 100]"
            ]
          },
          "metadata": {},
          "execution_count": 55
        }
      ]
    },
    {
      "cell_type": "code",
      "source": [
        "isimler=[\"Murat\", \"Ahmet\", \"Elif\"]\n",
        "maske_isimler=[(isim[0]+\"*****\") for isim in isimler]"
      ],
      "metadata": {
        "id": "N97jYsc1D_Dt"
      },
      "execution_count": null,
      "outputs": []
    },
    {
      "cell_type": "code",
      "source": [
        "maske_isimler"
      ],
      "metadata": {
        "colab": {
          "base_uri": "https://localhost:8080/"
        },
        "id": "sGqqeGHvEeMk",
        "outputId": "b013ed71-2a7b-4902-86c8-157c3f79135f"
      },
      "execution_count": null,
      "outputs": [
        {
          "output_type": "execute_result",
          "data": {
            "text/plain": [
              "['M*****', 'A*****', 'E*****']"
            ]
          },
          "metadata": {},
          "execution_count": 60
        }
      ]
    },
    {
      "cell_type": "code",
      "source": [],
      "metadata": {
        "id": "HKwIci9gEhTc"
      },
      "execution_count": null,
      "outputs": []
    }
  ]
}