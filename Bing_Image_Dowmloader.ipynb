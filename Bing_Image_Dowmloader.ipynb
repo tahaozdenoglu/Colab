{
  "nbformat": 4,
  "nbformat_minor": 0,
  "metadata": {
    "colab": {
      "provenance": [],
      "mount_file_id": "1Bkczodk21c0VjbXDun3M_je-iggckqB8",
      "authorship_tag": "ABX9TyOt+yKrLwpXXBikqlxBlXay",
      "include_colab_link": true
    },
    "kernelspec": {
      "name": "python3",
      "display_name": "Python 3"
    },
    "language_info": {
      "name": "python"
    }
  },
  "cells": [
    {
      "cell_type": "markdown",
      "metadata": {
        "id": "view-in-github",
        "colab_type": "text"
      },
      "source": [
        "<a href=\"https://colab.research.google.com/github/tahaozdenoglu/Colab/blob/main/Bing_Image_Dowmloader.ipynb\" target=\"_parent\"><img src=\"https://colab.research.google.com/assets/colab-badge.svg\" alt=\"Open In Colab\"/></a>"
      ]
    },
    {
      "cell_type": "code",
      "execution_count": null,
      "metadata": {
        "colab": {
          "base_uri": "https://localhost:8080/"
        },
        "id": "s1rn66qxkFI1",
        "outputId": "5360c57a-627c-429a-a9e2-eefc078565f1"
      },
      "outputs": [
        {
          "output_type": "stream",
          "name": "stdout",
          "text": [
            "Requirement already satisfied: bing-image-downloader in /usr/local/lib/python3.11/dist-packages (1.1.2)\n"
          ]
        }
      ],
      "source": [
        "pip install bing-image-downloader"
      ]
    },
    {
      "cell_type": "code",
      "source": [
        "from bing_image_downloader import downloader ##downloader modelünü içeri aktardık"
      ],
      "metadata": {
        "id": "ZMAh0AI7kg30"
      },
      "execution_count": null,
      "outputs": []
    },
    {
      "cell_type": "code",
      "source": [
        "downloader.download('cat',limit=2) ##dataset içine cat klasörü olusturarak indirdi"
      ],
      "metadata": {
        "colab": {
          "base_uri": "https://localhost:8080/"
        },
        "id": "Jw_8zE9gkp5T",
        "outputId": "64320a27-fad3-43ba-87c1-35b05e4aed45"
      },
      "execution_count": null,
      "outputs": [
        {
          "output_type": "stream",
          "name": "stdout",
          "text": [
            "[%] Downloading Images to /content/dataset/cat\n",
            "\n",
            "\n",
            "[!!]Indexing page: 1\n",
            "\n",
            "[%] Indexed 91 Images on Page 1.\n",
            "\n",
            "===============================================\n",
            "\n",
            "[%] Downloading Image #1 from https://wallpaperaccess.com/full/2111331.jpg\n",
            "[%] File Downloaded !\n",
            "\n",
            "[%] Downloading Image #2 from https://media1.popsugar-assets.com/files/thumbor/NqNuXTlogEUiTZkp05Q1aYwZT28/fit-in/2048xorig/filters:format_auto-!!-:strip_icc-!!-/2014/03/14/962/n/1922243/fecc0749267c3e33_shutterstock_82322182.jpg\n",
            "[%] File Downloaded !\n",
            "\n",
            "\n",
            "\n",
            "[%] Done. Downloaded 2 images.\n"
          ]
        }
      ]
    },
    {
      "cell_type": "code",
      "source": [
        "ls ##klasörleri gördün"
      ],
      "metadata": {
        "colab": {
          "base_uri": "https://localhost:8080/"
        },
        "id": "VuXFHZ5Hljqu",
        "outputId": "38d85f7f-e62c-4a76-89aa-4a93ab36e787"
      },
      "execution_count": null,
      "outputs": [
        {
          "output_type": "stream",
          "name": "stdout",
          "text": [
            "\u001b[0m\u001b[01;34mdataset\u001b[0m/  \u001b[01;34mdrive\u001b[0m/  \u001b[01;34msample_data\u001b[0m/\n"
          ]
        }
      ]
    },
    {
      "cell_type": "code",
      "source": [
        "##klasöre taşıma için\n",
        "from google.colab import drive ##drive bağlarken manuel bu kodu girebilirsin\n",
        "drive.mount('/content/drive')"
      ],
      "metadata": {
        "colab": {
          "base_uri": "https://localhost:8080/"
        },
        "id": "CBMQhwEHlncH",
        "outputId": "4b60ccd0-0327-44cc-9cd2-7c3c72ec3089"
      },
      "execution_count": null,
      "outputs": [
        {
          "output_type": "stream",
          "name": "stdout",
          "text": [
            "Drive already mounted at /content/drive; to attempt to forcibly remount, call drive.mount(\"/content/drive\", force_remount=True).\n"
          ]
        }
      ]
    },
    {
      "cell_type": "code",
      "source": [
        "!mv /content/dataset /content/drive/MyDrive/"
      ],
      "metadata": {
        "id": "A9Kdiss5mHgc"
      },
      "execution_count": null,
      "outputs": []
    },
    {
      "cell_type": "code",
      "source": [
        "##parametrelerden görselleri indireceği yeri belirlerleme\n",
        " ##nereye indirmesi gerektiğini belirttik oupput ile ayrıca adult filitresi ekledik\n",
        "downloader.download('dog',limit=2,output_dir=r'/content/drive/MyDrive/dataset',adult_filter_off=True)"
      ],
      "metadata": {
        "colab": {
          "base_uri": "https://localhost:8080/"
        },
        "id": "zfKZYG3Em02q",
        "outputId": "de7821ad-4843-4e3e-f9ad-40e071a61dd5"
      },
      "execution_count": null,
      "outputs": [
        {
          "output_type": "stream",
          "name": "stdout",
          "text": [
            "[%] Downloading Images to /content/drive/MyDrive/dataset/dog\n",
            "\n",
            "\n",
            "[!!]Indexing page: 1\n",
            "\n",
            "[%] Indexed 72 Images on Page 1.\n",
            "\n",
            "===============================================\n",
            "\n",
            "[%] Downloading Image #1 from https://site-547756.mozfiles.com/files/547756/medium/Dog2.jpg\n",
            "[%] File Downloaded !\n",
            "\n",
            "[%] Downloading Image #2 from https://images.ctfassets.net/m5ehn3s5t7ec/wp-image-197645/ebb53a9acfebebaf0b7cdfd540ff6040/Jack-Russell-Terrier-Dog-Breed-Information.jpg\n",
            "[%] File Downloaded !\n",
            "\n",
            "\n",
            "\n",
            "[%] Done. Downloaded 2 images.\n"
          ]
        }
      ]
    },
    {
      "cell_type": "code",
      "source": [],
      "metadata": {
        "id": "Pfi6lqtintHL"
      },
      "execution_count": null,
      "outputs": []
    }
  ]
}